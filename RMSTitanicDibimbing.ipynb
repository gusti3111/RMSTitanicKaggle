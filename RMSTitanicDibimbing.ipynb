{
  "nbformat": 4,
  "nbformat_minor": 0,
  "metadata": {
    "colab": {
      "private_outputs": true,
      "provenance": []
    },
    "kernelspec": {
      "name": "python3",
      "display_name": "Python 3"
    },
    "language_info": {
      "name": "python"
    }
  },
  "cells": [
    {
      "cell_type": "markdown",
      "source": [
        " # Data Preprocessing dan Exploratory Data Analysis (EDA)"
      ],
      "metadata": {
        "id": "NClHS5yu8e69"
      }
    },
    {
      "cell_type": "markdown",
      "source": [
        "Download dataset From Kaggle"
      ],
      "metadata": {
        "id": "P-KHYuUz9LvY"
      }
    },
    {
      "cell_type": "code",
      "execution_count": null,
      "metadata": {
        "id": "yvv8BUHp8HAA"
      },
      "outputs": [],
      "source": [
        "#In the first cell, upload kaggle.json\n",
        "from google.colab import files\n",
        "files.upload()  # Select the `kaggle.json` file from your computer\n",
        "\n"
      ]
    },
    {
      "cell_type": "markdown",
      "source": [
        "Set Up Kaggle API and Download Dataset"
      ],
      "metadata": {
        "id": "qbhBv75h-hKX"
      }
    },
    {
      "cell_type": "code",
      "source": [
        "!mkdir -p ~/.kaggle\n",
        "!mv kaggle.json ~/.kaggle/\n",
        "!chmod 600 ~/.kaggle/kaggle.json\n"
      ],
      "metadata": {
        "id": "nbrrx5_S9KVw"
      },
      "execution_count": null,
      "outputs": []
    },
    {
      "cell_type": "markdown",
      "source": [
        "download the dataset using the Kaggle API"
      ],
      "metadata": {
        "id": "gOUnRqzI_JqW"
      }
    },
    {
      "cell_type": "code",
      "source": [
        "!kaggle competitions download -c titanic"
      ],
      "metadata": {
        "id": "m0qzoBjl_I30"
      },
      "execution_count": null,
      "outputs": []
    },
    {
      "cell_type": "markdown",
      "source": [
        "Unzip the downloaded files"
      ],
      "metadata": {
        "id": "KKmdcSQg_XUU"
      }
    },
    {
      "cell_type": "code",
      "source": [
        "!unzip titanic.zip"
      ],
      "metadata": {
        "id": "7Sv-FoiX8eT1"
      },
      "execution_count": null,
      "outputs": []
    },
    {
      "cell_type": "markdown",
      "source": [
        "# Import Library and Load Dataset"
      ],
      "metadata": {
        "id": "CdoSOkONAFe5"
      }
    },
    {
      "cell_type": "code",
      "source": [
        "import pandas as pd\n",
        "import numpy as np\n",
        "from sklearn.model_selection import train_test_split, GridSearchCV\n",
        "from sklearn.ensemble import RandomForestClassifier\n",
        "from sklearn.preprocessing import LabelEncoder\n",
        "from sklearn.impute import SimpleImputer\n",
        "from sklearn.metrics import accuracy_score\n",
        "\n",
        "# Load the dataset\n",
        "train_data = pd.read_csv('train.csv')\n",
        "train_data.head()\n"
      ],
      "metadata": {
        "id": "MoN_rWoO_lvE"
      },
      "execution_count": null,
      "outputs": []
    },
    {
      "cell_type": "markdown",
      "source": [
        "#  Data Preprocessing dan Exploratory Data Analysis (EDA)"
      ],
      "metadata": {
        "id": "_NW1F_ogAlKu"
      }
    },
    {
      "cell_type": "code",
      "source": [
        "train_data.info()\n",
        "\n",
        "# Drop kolom yang tidak dibutuhkan (Cabin, Ticket, Name)\n",
        "train_data.drop(['Cabin', 'Ticket', 'Name'], axis=1, inplace=True)\n",
        "\n",
        "# Isi nilai kosong pada kolom 'Age' dengan median dan 'Embarked' dengan modus\n",
        "imputer = SimpleImputer(strategy='median')\n",
        "train_data['Age'] = imputer.fit_transform(train_data[['Age']])\n",
        "train_data['Embarked'] = train_data['Embarked'].fillna(train_data['Embarked'].mode()[0])\n",
        "\n",
        "# Encode variabel kategorikal\n",
        "label_encoder = LabelEncoder()\n",
        "train_data['Sex'] = label_encoder.fit_transform(train_data['Sex'])\n",
        "train_data['Embarked'] = label_encoder.fit_transform(train_data['Embarked'])\n",
        "\n",
        "# Define features dan target\n",
        "X = train_data.drop('Survived', axis=1)\n",
        "y = train_data['Survived']"
      ],
      "metadata": {
        "id": "KsOvvL00Ak2P"
      },
      "execution_count": null,
      "outputs": []
    },
    {
      "cell_type": "markdown",
      "source": [
        "# Data Visualization\n"
      ],
      "metadata": {
        "id": "TzKc1VHkJDmD"
      }
    },
    {
      "cell_type": "markdown",
      "source": [
        "Import Library Visualization"
      ],
      "metadata": {
        "id": "E8IGXJ7MJd8u"
      }
    },
    {
      "cell_type": "code",
      "source": [
        "import matplotlib.pyplot as plt\n",
        "import seaborn as sns\n",
        "\n",
        "# Set style\n",
        "sns.set(style=\"whitegrid\")\n"
      ],
      "metadata": {
        "id": "qSbQHJypJHzr"
      },
      "execution_count": null,
      "outputs": []
    },
    {
      "cell_type": "markdown",
      "source": [
        "Visualization Survived or not survived"
      ],
      "metadata": {
        "id": "sUtKXPd5J3nn"
      }
    },
    {
      "cell_type": "code",
      "source": [
        "# Plot distribusi penumpang yang selamat dan tidak selamat\n",
        "plt.figure(figsize=(6,4))\n",
        "sns.countplot(data=train_data, x='Survived', palette='viridis')\n",
        "plt.title('Distribusi Penumpang yang Selamat vs. Tidak Selamat')\n",
        "plt.xlabel('Survived (1 = Yes, 0 = No)')\n",
        "plt.ylabel('Count')\n",
        "plt.show()\n"
      ],
      "metadata": {
        "id": "z_MjLEEsJ_kS"
      },
      "execution_count": null,
      "outputs": []
    },
    {
      "cell_type": "markdown",
      "source": [
        "Visualization of the Relationship Between Gender and Survival"
      ],
      "metadata": {
        "id": "o-6kq44ZKlLq"
      }
    },
    {
      "cell_type": "code",
      "source": [
        "# Plot distribusi keselamatan berdasarkan gender\n",
        "plt.figure(figsize=(6,4))\n",
        "sns.countplot(data=train_data, x='Sex', hue='Survived', palette='viridis')\n",
        "plt.title('Keselamatan Berdasarkan Gender')\n",
        "plt.xlabel('Gender')\n",
        "plt.ylabel('Count')\n",
        "plt.legend(['Tidak Selamat', 'Selamat'], title='Survived')\n",
        "plt.show()\n"
      ],
      "metadata": {
        "id": "2kUDvlAmNjVL"
      },
      "execution_count": null,
      "outputs": []
    },
    {
      "cell_type": "markdown",
      "source": [
        "Visualization of the Relationship Between Age and Survival"
      ],
      "metadata": {
        "id": "2lw1LlaYPzqg"
      }
    },
    {
      "cell_type": "code",
      "source": [
        "# Plot distribusi usia\n",
        "plt.figure(figsize=(8,6))\n",
        "sns.histplot(train_data['Age'], kde=True, bins=30, color='blue')\n",
        "plt.title('Distribusi Usia Penumpang')\n",
        "plt.xlabel('Age')\n",
        "plt.ylabel('Count')\n",
        "plt.show()\n"
      ],
      "metadata": {
        "id": "6csHY7kPMkMx"
      },
      "execution_count": null,
      "outputs": []
    },
    {
      "cell_type": "markdown",
      "source": [
        "Visualization of Survival Based on Port of Embarkation"
      ],
      "metadata": {
        "id": "RDcqNyxCPPw6"
      }
    },
    {
      "cell_type": "code",
      "source": [
        "# Plot survival based on port of embarkation\n",
        "plt.figure(figsize=(6,4))\n",
        "sns.countplot(data=train_data, x='Embarked', hue='Survived', palette='viridis')\n",
        "plt.title('Survival Based on Port of Embarkation')\n",
        "plt.xlabel('Port of Embarkation')\n",
        "plt.ylabel('Count')\n",
        "plt.legend(['Did Not Survive', 'Survived'], title='Survived')\n",
        "plt.show()\n"
      ],
      "metadata": {
        "id": "uJtnhkB-NrND"
      },
      "execution_count": null,
      "outputs": []
    },
    {
      "cell_type": "markdown",
      "source": [
        "# Plot correlation heatmap"
      ],
      "metadata": {
        "id": "aQQUcP9uSXDo"
      }
    },
    {
      "cell_type": "code",
      "source": [
        "\n",
        "plt.figure(figsize=(10,8))\n",
        "sns.heatmap(train_data.corr(), annot=True, cmap='coolwarm', fmt=\".2f\")\n",
        "plt.title('Correlation Between Features')\n",
        "plt.show()"
      ],
      "metadata": {
        "id": "mR9iMZT1RNKX"
      },
      "execution_count": null,
      "outputs": []
    },
    {
      "cell_type": "markdown",
      "source": [
        "#  Advanced Feature Engineering for Improved Model Performance"
      ],
      "metadata": {
        "id": "wdV2UG8zUO6L"
      }
    },
    {
      "cell_type": "markdown",
      "source": [
        "Create the \"FamilySize\" Feature"
      ],
      "metadata": {
        "id": "unnAlySaWFzV"
      }
    },
    {
      "cell_type": "code",
      "source": [
        "#Family size can be an important indicator.\n",
        "#We can create a \"FamilySize\" feature based on the number of family members on board,\n",
        "#which is the sum of the number of siblings/spouses (SibSp) and the number of parents/children (Parch)\n",
        "# plus one (for the passenger themselves).\n",
        "train_data['FamilySize'] = train_data['SibSp'] + train_data['Parch'] + 1"
      ],
      "metadata": {
        "id": "GVB2vflgTEHR"
      },
      "execution_count": null,
      "outputs": []
    },
    {
      "cell_type": "markdown",
      "source": [
        "Create the \"IsAlone\" Feature"
      ],
      "metadata": {
        "id": "8TMjlwtTW1Hr"
      }
    },
    {
      "cell_type": "code",
      "source": [
        "# Create IsAlone feature\n",
        "train_data['IsAlone'] = 1  # Initialize as \"alone\"\n",
        "train_data['IsAlone'].loc[train_data['FamilySize'] > 1] = 0  # Set to 0 if with family\n"
      ],
      "metadata": {
        "id": "EYZZc6Q0WVBZ"
      },
      "execution_count": null,
      "outputs": []
    },
    {
      "cell_type": "code",
      "source": [
        "train_data.head()\n"
      ],
      "metadata": {
        "id": "0Ojm9ezaWKm5"
      },
      "execution_count": null,
      "outputs": []
    },
    {
      "cell_type": "markdown",
      "source": [
        "Create \"FarePerPerson\" Feature"
      ],
      "metadata": {
        "id": "Ti92mBDVXzPp"
      }
    },
    {
      "cell_type": "code",
      "source": [
        "# Create FarePerPerson\n",
        "train_data['FarePerPerson'] = train_data['Fare'] / train_data['FamilySize']\n"
      ],
      "metadata": {
        "id": "L-9YVdTKYsP8"
      },
      "execution_count": null,
      "outputs": []
    },
    {
      "cell_type": "markdown",
      "source": [
        "Categorize age into groups"
      ],
      "metadata": {
        "id": "Kh_s7-uQY2f8"
      }
    },
    {
      "cell_type": "code",
      "source": [
        "# Categorize age into groups\n",
        "train_data['AgeGroup'] = pd.cut(train_data['Age'], bins=[0, 12, 18, 35, 60, 80], labels=['Child', 'Teenager', 'Young Adult', 'Adult', 'Senior'])\n"
      ],
      "metadata": {
        "id": "eH9_VZ3-Y0XH"
      },
      "execution_count": null,
      "outputs": []
    },
    {
      "cell_type": "code",
      "source": [
        "# One-hot encode categorical features\n",
        "train_data = pd.get_dummies(train_data, columns=['Sex', 'Embarked','AgeGroup'], drop_first=True)\n"
      ],
      "metadata": {
        "id": "NRc1d7qYY6d1"
      },
      "execution_count": null,
      "outputs": []
    },
    {
      "cell_type": "code",
      "source": [
        "from sklearn.preprocessing import StandardScaler\n",
        "\n",
        "# Normalize Fare and Age columns\n",
        "scaler = StandardScaler()\n",
        "train_data[['Fare', 'Age', 'FarePerPerson']] = scaler.fit_transform(train_data[['Fare', 'Age', 'FarePerPerson']])\n"
      ],
      "metadata": {
        "id": "7aNy74UQZI_V"
      },
      "execution_count": null,
      "outputs": []
    },
    {
      "cell_type": "code",
      "source": [
        "train_data.head()\n"
      ],
      "metadata": {
        "id": "Dx0_wLHgZM_8"
      },
      "execution_count": null,
      "outputs": []
    },
    {
      "cell_type": "markdown",
      "source": [
        "# Split Data and Build the Model"
      ],
      "metadata": {
        "id": "q12FDwt7Bnmz"
      }
    },
    {
      "cell_type": "code",
      "source": [
        "# Split data again after feature engineering\n",
        "X = train_data.drop(['Survived', 'PassengerId'], axis=1)\n",
        "y = train_data['Survived']\n",
        "\n",
        "# Split data into training and validation sets\n",
        "X_train, X_val, y_train, y_val = train_test_split(X, y, test_size=0.2, random_state=42)\n",
        "\n",
        "# Initialize and train the same model, e.g., RandomForest\n",
        "best_rf_model = RandomForestClassifier(random_state=42)\n",
        "best_rf_model.fit(X_train, y_train)\n",
        "\n",
        "# Evaluate the model\n",
        "y_pred = best_rf_model.predict(X_val)\n",
        "accuracy = accuracy_score(y_val, y_pred)\n",
        "print(f'Model Accuracy After Feature Engineering: {accuracy:.2f}')\n"
      ],
      "metadata": {
        "id": "9D5mU5nFZVf0"
      },
      "execution_count": null,
      "outputs": []
    }
  ]
}